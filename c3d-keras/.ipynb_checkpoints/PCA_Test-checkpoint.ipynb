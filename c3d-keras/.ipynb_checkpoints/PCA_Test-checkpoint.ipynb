{
 "cells": [
  {
   "cell_type": "code",
   "execution_count": 1,
   "metadata": {},
   "outputs": [],
   "source": [
    "import h5py\n",
    "import numpy as np\n",
    "file = './models/PCA_activitynet_v1-3.hdf5'\n",
    "f = h5py.File(file, 'r')"
   ]
  },
  {
   "cell_type": "code",
   "execution_count": 2,
   "metadata": {},
   "outputs": [
    {
     "name": "stdout",
     "output_type": "stream",
     "text": [
      "Keys: KeysView(<HDF5 file \"PCA_activitynet_v1-3.hdf5\" (mode r)>)\n",
      "['S', 'U', '_S', '_U', '_n_samples', '_x_mean', 'n_samples', 'x_mean']\n"
     ]
    }
   ],
   "source": [
    "# List all groups\n",
    "print(\"Keys: %s\" % f.keys())\n",
    "a_group_key = list(f.keys())[0]\n",
    "# Get the data\n",
    "data = list(f[a_group_key])\n",
    "print(list(f['data'].keys()))\n",
    "#print(f['type'])\n"
   ]
  },
  {
   "cell_type": "code",
   "execution_count": 4,
   "metadata": {},
   "outputs": [
    {
     "data": {
      "text/plain": [
       "['S', 'U', '_S', '_U', '_n_samples', '_x_mean', 'n_samples', 'x_mean']"
      ]
     },
     "execution_count": 4,
     "metadata": {},
     "output_type": "execute_result"
    }
   ],
   "source": [
    "d1 = f['data']\n",
    "list(d1)"
   ]
  },
  {
   "cell_type": "code",
   "execution_count": 5,
   "metadata": {},
   "outputs": [
    {
     "data": {
      "text/plain": [
       "(4096, 4096)"
      ]
     },
     "execution_count": 5,
     "metadata": {},
     "output_type": "execute_result"
    }
   ],
   "source": [
    "np.array((d1['U'])).shape"
   ]
  },
  {
   "cell_type": "code",
   "execution_count": 13,
   "metadata": {},
   "outputs": [],
   "source": [
    "PCAs = np.array(d1['U'])[:,0:500].shape"
   ]
  },
  {
   "cell_type": "code",
   "execution_count": 14,
   "metadata": {},
   "outputs": [
    {
     "ename": "SyntaxError",
     "evalue": "invalid syntax (<ipython-input-14-a0e37a52ec52>, line 16)",
     "output_type": "error",
     "traceback": [
      "\u001b[0;36m  File \u001b[0;32m\"<ipython-input-14-a0e37a52ec52>\"\u001b[0;36m, line \u001b[0;32m16\u001b[0m\n\u001b[0;31m    print \"[Info] image_dim_order (from default ~/.keras/keras.json)={}\".format(\u001b[0m\n\u001b[0m                                                                       ^\u001b[0m\n\u001b[0;31mSyntaxError\u001b[0m\u001b[0;31m:\u001b[0m invalid syntax\n"
     ]
    }
   ],
   "source": [
    "#!/usr/bin/env python\n",
    "\n",
    "import matplotlib\n",
    "matplotlib.use('Agg')\n",
    "from keras.models import model_from_json\n",
    "import os\n",
    "import cv2\n",
    "import numpy as np\n",
    "import matplotlib.pyplot as plt\n",
    "import c3d_model\n",
    "import sys\n",
    "import keras.backend as K\n",
    "from sklearn.decomposition import PCA\n",
    "from sklearn.preprocessing import StandardScaler \n",
    "dim_ordering = K.image_dim_ordering()\n",
    "print \"[Info] image_dim_order (from default ~/.keras/keras.json)={}\".format(\n",
    "        dim_ordering)\n",
    "backend = dim_ordering\n",
    "\n",
    "def diagnose(data, verbose=True, label='input', plots=False, backend='tf'):\n",
    "    # Convolution3D?\n",
    "    if data.ndim > 2:\n",
    "        if backend == 'th':\n",
    "            data = np.transpose(data, (1, 2, 3, 0))\n",
    "        #else:\n",
    "        #    data = np.transpose(data, (0, 2, 1, 3))\n",
    "        min_num_spatial_axes = 10\n",
    "        max_outputs_to_show = 3\n",
    "        ndim = data.ndim\n",
    "        print \"[Info] {}.ndim={}\".format(label, ndim)\n",
    "        print \"[Info] {}.shape={}\".format(label, data.shape)\n",
    "        for d in range(ndim):\n",
    "            num_this_dim = data.shape[d]\n",
    "            if num_this_dim >= min_num_spatial_axes: # check for spatial axes\n",
    "                # just first, center, last indices\n",
    "                range_this_dim = [0, num_this_dim/2, num_this_dim - 1]\n",
    "            else:\n",
    "                # sweep all indices for non-spatial axes\n",
    "                range_this_dim = range(num_this_dim)\n",
    "            for i in range_this_dim:\n",
    "                new_dim = tuple([d] + range(d) + range(d + 1, ndim))\n",
    "                sliced = np.transpose(data, new_dim)[i, ...]\n",
    "                print(\"[Info] {}, dim:{} {}-th slice: \"\n",
    "                      \"(min, max, mean, std)=({}, {}, {}, {})\".format(\n",
    "                              label,\n",
    "                              d, i,\n",
    "                              np.min(sliced),\n",
    "                              np.max(sliced),\n",
    "                              np.mean(sliced),\n",
    "                              np.std(sliced)))\n",
    "        if plots:\n",
    "            # assume (l, h, w, c)-shaped input\n",
    "            if data.ndim != 4:\n",
    "                print(\"[Error] data (shape={}) is not 4-dim. Check data\".format(\n",
    "                        data.shape))\n",
    "                return\n",
    "            l, h, w, c = data.shape\n",
    "            if l >= min_num_spatial_axes or \\\n",
    "                h < min_num_spatial_axes or \\\n",
    "                w < min_num_spatial_axes:\n",
    "                print(\"[Error] data (shape={}) does not look like in (l,h,w,c) \"\n",
    "                      \"format. Do reshape/transpose.\".format(data.shape))\n",
    "                return\n",
    "            nrows = int(np.ceil(np.sqrt(data.shape[0])))\n",
    "            # BGR\n",
    "            if c == 3:\n",
    "                for i in range(l):\n",
    "                    mng = plt.get_current_fig_manager()\n",
    "                    mng.resize(*mng.window.maxsize())\n",
    "                    plt.subplot(nrows, nrows, i + 1) # doh, one-based!\n",
    "                    im = np.squeeze(data[i, ...]).astype(np.float32)\n",
    "                    im = im[:, :, ::-1] # BGR to RGB\n",
    "                    # force it to range [0,1]\n",
    "                    im_min, im_max = im.min(), im.max()\n",
    "                    if im_max > im_min:\n",
    "                        im_std = (im - im_min) / (im_max - im_min)\n",
    "                    else:\n",
    "                        print \"[Warning] image is constant!\"\n",
    "                        im_std = np.zeros_like(im)\n",
    "                    plt.imshow(im_std)\n",
    "                    plt.axis('off')\n",
    "                    plt.title(\"{}: t={}\".format(label, i))\n",
    "                plt.show()\n",
    "                #plt.waitforbuttonpress()\n",
    "            else:\n",
    "                for j in range(min(c, max_outputs_to_show)):\n",
    "                    for i in range(l):\n",
    "                        mng = plt.get_current_fig_manager()\n",
    "                        mng.resize(*mng.window.maxsize())\n",
    "                        plt.subplot(nrows, nrows, i + 1) # doh, one-based!\n",
    "                        im = np.squeeze(data[i, ...]).astype(np.float32)\n",
    "                        im = im[:, :, j]\n",
    "                        # force it to range [0,1]\n",
    "                        im_min, im_max = im.min(), im.max()\n",
    "                        if im_max > im_min:\n",
    "                            im_std = (im - im_min) / (im_max - im_min)\n",
    "                        else:\n",
    "                            print \"[Warning] image is constant!\"\n",
    "                            im_std = np.zeros_like(im)\n",
    "                        plt.imshow(im_std)\n",
    "                        plt.axis('off')\n",
    "                        plt.title(\"{}: o={}, t={}\".format(label, j, i))\n",
    "                    plt.show()\n",
    "                    #plt.waitforbuttonpress()\n",
    "    elif data.ndim == 1:\n",
    "        print(\"[Info] {} (min, max, mean, std)=({}, {}, {}, {})\".format(\n",
    "                      label,\n",
    "                      np.min(data),\n",
    "                      np.max(data),\n",
    "                      np.mean(data),\n",
    "                      np.std(data)))\n",
    "        print(\"[Info] data[:10]={}\".format(data[:10]))\n",
    "\n",
    "    return"
   ]
  },
  {
   "cell_type": "code",
   "execution_count": null,
   "metadata": {},
   "outputs": [],
   "source": []
  }
 ],
 "metadata": {
  "kernelspec": {
   "display_name": "Python 3",
   "language": "python",
   "name": "python3"
  },
  "language_info": {
   "codemirror_mode": {
    "name": "ipython",
    "version": 3
   },
   "file_extension": ".py",
   "mimetype": "text/x-python",
   "name": "python",
   "nbconvert_exporter": "python",
   "pygments_lexer": "ipython3",
   "version": "3.6.4"
  }
 },
 "nbformat": 4,
 "nbformat_minor": 2
}
