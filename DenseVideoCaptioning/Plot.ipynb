{
 "cells": [
  {
   "cell_type": "code",
   "execution_count": 2,
   "metadata": {},
   "outputs": [],
   "source": [
    "import os\n",
    "import numpy as np\n",
    "import json\n",
    "import h5py\n",
    "from opt import *\n",
    "from data_provider import *\n",
    "from model import *\n",
    "\n",
    "import tensorflow as tf\n",
    "import sys\n",
    "sys.path.insert(0, './densevid_eval_master')\n",
    "sys.path.insert(0, './densevid_eval_master/coco_caption')\n",
    "#from evaluator import *\n",
    "#from evaluator_efficient import *\n",
    "from evaluator_old import *\n",
    "from pycocotools.coco import COCO\n",
    "from pycocoevalcap.eval import COCOEvalCap\n",
    "\n",
    "# reload(sys)\n",
    "# sys.setdefaultencoding('utf-8')\n",
    "\n",
    "\n"
   ]
  },
  {
   "cell_type": "code",
   "execution_count": 3,
   "metadata": {},
   "outputs": [],
   "source": [
    "import sys\n",
    "print 'hi'"
   ]
  },
  {
   "cell_type": "code",
   "execution_count": null,
   "metadata": {},
   "outputs": [],
   "source": [
    "resFile = 'results/1/val_100_proposal_result.json'\n",
    "options = default_options()\n",
    "\n",
    "evaluator = ANETcaptions(ground_truth_filenames=['densevid_eval-master/data/val_1.json', 'densevid_eval-master/data/val_2.json'],\n",
    "                             prediction_filename=resFile,\n",
    "                             tious=options['tiou_measure'],\n",
    "                             max_proposals=options['max_proposal_num'],\n",
    "                             verbose=False)\n",
    "evaluator.evaluate()"
   ]
  },
  {
   "cell_type": "code",
   "execution_count": null,
   "metadata": {},
   "outputs": [],
   "source": []
  },
  {
   "cell_type": "code",
   "execution_count": null,
   "metadata": {},
   "outputs": [],
   "source": [
    "print 'hi'"
   ]
  },
  {
   "cell_type": "code",
   "execution_count": null,
   "metadata": {},
   "outputs": [],
   "source": [
    "# Output the results\n",
    "for i, tiou in enumerate(options['tiou_measure']):\n",
    "    print('-' * 80)\n",
    "    print('tIoU: %.2f'%tiou)\n",
    "    print('-' * 80)\n",
    "    for metric in evaluator.scores:\n",
    "        score = evaluator.scores[metric][i]\n",
    "        print('| %s: %2.4f'%(metric, 100*score))\n"
   ]
  }
 ],
 "metadata": {
  "kernelspec": {
   "display_name": "Python 2",
   "language": "python",
   "name": "python2"
  },
  "language_info": {
   "codemirror_mode": {
    "name": "ipython",
    "version": 2
   },
   "file_extension": ".py",
   "mimetype": "text/x-python",
   "name": "python",
   "nbconvert_exporter": "python",
   "pygments_lexer": "ipython2",
   "version": "2.7.15"
  }
 },
 "nbformat": 4,
 "nbformat_minor": 2
}
